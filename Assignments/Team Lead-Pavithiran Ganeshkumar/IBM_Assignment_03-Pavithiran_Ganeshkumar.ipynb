{
    "cells": [
        {
            "cell_type": "markdown",
            "metadata": {},
            "source": [
                "# Building CNN Model for Classification Of Flowers\n"
            ]
        },
        {
            "cell_type": "markdown",
            "metadata": {},
            "source": [
                "Dataset URL: https://drive.google.com/file/d/1xkynpL15pt6KT3YSlDimu4A5iRU9qYck/view\n"
            ]
        },
        {
            "cell_type": "code",
            "execution_count": 1,
            "metadata": {},
            "outputs": [],
            "source": [
                "import os\n",
                "from os import path\n",
                "from pathlib import Path\n",
                "from matplotlib import pyplot\n",
                "from typing import Dict, List, Tuple"
            ]
        },
        {
            "cell_type": "code",
            "execution_count": 2,
            "metadata": {},
            "outputs": [],
            "source": [
                "DATASET_PATH: str = path.join(Path(path.abspath(\"\")).parent, \"content\", \"flowers\")\n",
                "MODEL_PATH: str = path.join(Path(path.abspath(\"\")).parent, \"model\", \"flowers.h5\")\n",
                "directories: Dict[str, str] = {\n",
                "    \"daisy\": path.join(DATASET_PATH, \"daisy\"),\n",
                "    \"dandelion\": path.join(DATASET_PATH, \"dandelion\"),\n",
                "    \"rose\": path.join(DATASET_PATH, \"rose\"),\n",
                "    \"sunflower\": path.join(DATASET_PATH, \"sunflower\"),\n",
                "    \"tulip\": path.join(DATASET_PATH, \"tulip\"),\n",
                "}"
            ]
        },
        {
            "cell_type": "markdown",
            "metadata": {},
            "source": [
                "### Data Augumentation\n"
            ]
        },
        {
            "cell_type": "code",
            "execution_count": 3,
            "metadata": {},
            "outputs": [],
            "source": [
                "import cv2\n",
                "import numpy\n",
                "import pandas\n",
                "import random\n",
                "import tensorflow"
            ]
        },
        {
            "cell_type": "code",
            "execution_count": 4,
            "metadata": {},
            "outputs": [],
            "source": [
                "width, height = 64, 64\n",
                "\n",
                "training_labels: List[str] = []\n",
                "training_images: List[str] = []\n",
                "\n",
                "testing_labels: List[str] = []\n",
                "testing_images: List[str] = []"
            ]
        },
        {
            "cell_type": "code",
            "execution_count": 5,
            "metadata": {},
            "outputs": [],
            "source": [
                "def resize_image(image, width=28, height=28):\n",
                "    dimensions = width, height\n",
                "    _height, _width = image.shape[:2]\n",
                "    c = image.shape[2] if len(image.shape) > 2 else 1\n",
                "\n",
                "    if _height == _width:\n",
                "        return cv2.resize(image, dimensions, cv2.INTER_AREA)\n",
                "\n",
                "    difference = _height if _height > _width else _width\n",
                "\n",
                "    interpolation = cv2.INTER_AREA if difference > (\n",
                "        width + height) // 2 else cv2.INTER_CUBIC\n",
                "\n",
                "    x_position = (difference - _width) // 2\n",
                "    y_position = (difference - _height) // 2\n",
                "\n",
                "    if len(image.shape) == 2:\n",
                "        mask = numpy.zeros((difference, difference), dtype=image.dtype)\n",
                "        mask[y_position:(y_position + _height), x_position:(x_position + _width)] = image[:_height, :_width]\n",
                "\n",
                "    else:\n",
                "        mask = numpy.zeros((difference, difference, c), dtype=image.dtype)\n",
                "        mask[y_position:(y_position + _height), x_position:(x_position + _width), :] = image[:_height, :_width, :]\n",
                "\n",
                "    return cv2.resize(mask, dimensions, interpolation)"
            ]
        },
        {
            "cell_type": "code",
            "execution_count": 6,
            "metadata": {},
            "outputs": [],
            "source": [
                "def process_data(flower_type: str, directory: str) -> None:\n",
                "    images: List[str] = []\n",
                "    labels: List[str] = []\n",
                "\n",
                "    for image in os.listdir(directory):\n",
                "        image_path = path.join(directory, image)\n",
                "        image_data = cv2.imread(image_path)\n",
                "        image_data = cv2.cvtColor(image_data, cv2.COLOR_BGR2RGB)\n",
                "        image = resize_image(image_data, width, height)\n",
                "\n",
                "        images.append(image)\n",
                "        labels.append(flower_type)\n",
                "\n",
                "    split: int = int(len(images) * 0.9)\n",
                "    training_labels.extend(labels[:split])\n",
                "    training_images.extend(images[:split])\n",
                "\n",
                "    testing_labels.extend(labels[split:])\n",
                "    testing_images.extend(images[split:])"
            ]
        },
        {
            "cell_type": "code",
            "execution_count": 7,
            "metadata": {},
            "outputs": [],
            "source": [
                "for flower_type, directory in directories.items():\n",
                "    process_data(flower_type, directory)"
            ]
        },
        {
            "cell_type": "code",
            "execution_count": 8,
            "metadata": {},
            "outputs": [],
            "source": [
                "training_data = numpy.array(training_images)\n",
                "testing_data = numpy.array(testing_images)\n",
                "\n",
                "training_data = training_data.astype(\"float32\") / 255.0\n",
                "testing_data = testing_data.astype(\"float32\") / 255.0\n",
                "\n",
                "label_dummies = pandas.get_dummies(training_labels)\n",
                "training_labels = label_dummies.values\n",
                "\n",
                "label_dummies = pandas.get_dummies(testing_labels)\n",
                "testing_labels = label_dummies.values"
            ]
        },
        {
            "cell_type": "code",
            "execution_count": 9,
            "metadata": {},
            "outputs": [],
            "source": [
                "numpy.random.seed(42)\n",
                "random.seed(42)"
            ]
        },
        {
            "cell_type": "code",
            "execution_count": 10,
            "metadata": {},
            "outputs": [],
            "source": [
                "union_list: List[tuple] = list(zip(training_data, training_labels))\n",
                "random.shuffle(union_list)\n",
                "training_data, training_labels = zip(*union_list)\n",
                "\n",
                "training_data, training_labels = numpy.array(training_data), numpy.array(training_labels)\n",
                "\n",
                "union_list: List[tuple] = list(zip(testing_data, testing_labels))\n",
                "random.shuffle(union_list)\n",
                "testing_data, testing_labels = zip(*union_list)\n",
                "\n",
                "testing_data, testing_labels = numpy.array(testing_data), numpy.array(testing_labels)"
            ]
        },
        {
            "cell_type": "markdown",
            "metadata": {},
            "source": [
                "### Building the CNN Model\n"
            ]
        },
        {
            "cell_type": "code",
            "execution_count": 16,
            "metadata": {},
            "outputs": [],
            "source": [
                "import tensorflow\n",
                "from keras.models import Sequential\n",
                "from keras.layers import Conv2D, MaxPooling2D, Dense, Dropout, LeakyReLU, GlobalMaxPooling2D, Activation, Flatten"
            ]
        },
        {
            "cell_type": "code",
            "execution_count": 18,
            "metadata": {},
            "outputs": [
                {
                    "name": "stdout",
                    "output_type": "stream",
                    "text": [
                        "Model: \"FlowerClassifier\"\n",
                        "_________________________________________________________________\n",
                        " Layer (type)                Output Shape              Param #   \n",
                        "=================================================================\n",
                        " Conv2D_01 (Conv2D)          (None, 62, 62, 64)        1792      \n",
                        "                                                                 \n",
                        " MaxPooling2D_01 (MaxPooling  (None, 31, 31, 64)       0         \n",
                        " 2D)                                                             \n",
                        "                                                                 \n",
                        " Dropout_01 (Dropout)        (None, 31, 31, 64)        0         \n",
                        "                                                                 \n",
                        " Conv2D_02 (Conv2D)          (None, 29, 29, 64)        36928     \n",
                        "                                                                 \n",
                        " MaxPooling2D_02 (MaxPooling  (None, 14, 14, 64)       0         \n",
                        " 2D)                                                             \n",
                        "                                                                 \n",
                        " Dropout_02 (Dropout)        (None, 14, 14, 64)        0         \n",
                        "                                                                 \n",
                        " Flatten_02 (Flatten)        (None, 12544)             0         \n",
                        "                                                                 \n",
                        " Dense_Relu_01 (Dense)       (None, 300)               3763500   \n",
                        "                                                                 \n",
                        " Dense_Relu_02 (Dense)       (None, 150)               45150     \n",
                        "                                                                 \n",
                        " Dense_SoftMax (Dense)       (None, 5)                 755       \n",
                        "                                                                 \n",
                        "=================================================================\n",
                        "Total params: 3,848,125\n",
                        "Trainable params: 3,848,125\n",
                        "Non-trainable params: 0\n",
                        "_________________________________________________________________\n"
                    ]
                }
            ],
            "source": [
                "model: Sequential = Sequential(name=\"FlowerClassifier\")\n",
                "\n",
                "model.add(Conv2D(64, (3, 3), activation=\"relu\", input_shape=(64, 64, 3), name=\"Conv2D_01\"))\n",
                "model.add(MaxPooling2D(pool_size=(2, 2), name=\"MaxPooling2D_01\"))\n",
                "model.add(Dropout(0.25, name=\"Dropout_01\"))\n",
                "\n",
                "model.add(Conv2D(64, (3, 3), activation=\"relu\", input_shape=(64, 64, 3), name=\"Conv2D_02\"))\n",
                "model.add(MaxPooling2D(pool_size=(2, 2), name=\"MaxPooling2D_02\"))\n",
                "model.add(Dropout(0.25, name=\"Dropout_02\"))\n",
                "model.add(Flatten(name=\"Flatten_02\"))\n",
                "\n",
                "model.add(Dense(300, activation=\"relu\", name=\"Dense_Relu_01\"))\n",
                "model.add(Dense(150, activation=\"relu\", name=\"Dense_Relu_02\"))\n",
                "model.add(Dense(5, activation=\"softmax\", name=\"Dense_SoftMax\"))\n",
                "\n",
                "model.compile(optimizer=\"adam\", loss=\"categorical_crossentropy\", metrics=[\"accuracy\"])\n",
                "model.summary()"
            ]
        },
        {
            "cell_type": "code",
            "execution_count": 20,
            "metadata": {},
            "outputs": [
                {
                    "name": "stdout",
                    "output_type": "stream",
                    "text": [
                        "Epoch 1/20\n",
                        "3882/3882 [==============================] - 176s 45ms/step - loss: 0.7341 - accuracy: 0.7236\n",
                        "Epoch 2/20\n",
                        "3882/3882 [==============================] - 169s 44ms/step - loss: 0.6706 - accuracy: 0.7509\n",
                        "Epoch 3/20\n",
                        "3882/3882 [==============================] - 169s 44ms/step - loss: 0.5860 - accuracy: 0.7803\n",
                        "Epoch 4/20\n",
                        "3882/3882 [==============================] - 197s 51ms/step - loss: 0.5227 - accuracy: 0.8120\n",
                        "Epoch 5/20\n",
                        "3882/3882 [==============================] - 155s 40ms/step - loss: 0.4413 - accuracy: 0.8380\n",
                        "Epoch 6/20\n",
                        "3882/3882 [==============================] - 150s 39ms/step - loss: 0.4245 - accuracy: 0.8454\n",
                        "Epoch 7/20\n",
                        "3882/3882 [==============================] - 156s 40ms/step - loss: 0.3449 - accuracy: 0.8776\n",
                        "Epoch 8/20\n",
                        "3882/3882 [==============================] - 152s 39ms/step - loss: 0.3204 - accuracy: 0.8854\n",
                        "Epoch 9/20\n",
                        "3882/3882 [==============================] - 195s 50ms/step - loss: 0.2988 - accuracy: 0.9057\n",
                        "Epoch 10/20\n",
                        "3882/3882 [==============================] - 198s 51ms/step - loss: 0.2745 - accuracy: 0.9088\n",
                        "Epoch 11/20\n",
                        "3882/3882 [==============================] - 199s 51ms/step - loss: 0.2353 - accuracy: 0.9232\n",
                        "Epoch 12/20\n",
                        "3882/3882 [==============================] - 197s 51ms/step - loss: 0.2536 - accuracy: 0.9232\n",
                        "Epoch 13/20\n",
                        "3882/3882 [==============================] - 199s 51ms/step - loss: 0.2313 - accuracy: 0.9320\n",
                        "Epoch 14/20\n",
                        "3882/3882 [==============================] - 203s 52ms/step - loss: 0.2004 - accuracy: 0.9408\n",
                        "Epoch 15/20\n",
                        "3882/3882 [==============================] - 196s 50ms/step - loss: 0.2542 - accuracy: 0.9268\n",
                        "Epoch 16/20\n",
                        "3882/3882 [==============================] - 189s 49ms/step - loss: 0.1773 - accuracy: 0.9441\n",
                        "Epoch 17/20\n",
                        "3882/3882 [==============================] - 206s 53ms/step - loss: 0.2040 - accuracy: 0.9456\n",
                        "Epoch 18/20\n",
                        "3882/3882 [==============================] - 214s 55ms/step - loss: 0.1910 - accuracy: 0.9459\n",
                        "Epoch 19/20\n",
                        "3882/3882 [==============================] - 206s 53ms/step - loss: 0.1623 - accuracy: 0.9541\n",
                        "Epoch 20/20\n",
                        "3882/3882 [==============================] - 207s 53ms/step - loss: 0.1867 - accuracy: 0.9467\n"
                    ]
                }
            ],
            "source": [
                "model.fit(training_data, training_labels, steps_per_epoch=len(training_data), epochs=20, verbose=1, use_multiprocessing=True)\n",
                "model.save(MODEL_PATH)"
            ]
        },
        {
            "cell_type": "markdown",
            "metadata": {},
            "source": [
                "### Testing model"
            ]
        },
        {
            "cell_type": "code",
            "execution_count": 21,
            "metadata": {},
            "outputs": [],
            "source": [
                "from tensorflow import keras\n",
                "from keras.utils import load_img, img_to_array\n",
                "\n",
                "model: Sequential = keras.models.load_model(MODEL_PATH)"
            ]
        },
        {
            "cell_type": "code",
            "execution_count": 22,
            "metadata": {},
            "outputs": [],
            "source": [
                "result: List[bool] = []\n",
                "\n",
                "for index in range(len(testing_data)):\n",
                "    actual = testing_labels[index].argmax()\n",
                "\n",
                "    image = numpy.expand_dims(testing_data[index], axis=0)\n",
                "    predicted = numpy.argmax(model.predict(image, verbose=0, use_multiprocessing=True))\n",
                "\n",
                "    result.append(actual == predicted)"
            ]
        },
        {
            "cell_type": "code",
            "execution_count": 23,
            "metadata": {},
            "outputs": [
                {
                    "name": "stdout",
                    "output_type": "stream",
                    "text": [
                        "Success %: 72.38, Failiure %: 27.62\n"
                    ]
                }
            ],
            "source": [
                "success = round((result.count(True) / len(result)) * 100, 2)\n",
                "failure = round((result.count(False) / len(result)) * 100, 2)\n",
                "\n",
                "print(f\"Success %: {success}, Failiure %: {failure}\")"
            ]
        },
        {
            "cell_type": "code",
            "execution_count": 24,
            "metadata": {},
            "outputs": [
                {
                    "name": "stdout",
                    "output_type": "stream",
                    "text": [
                        "tulip\n",
                        "1/1 [==============================] - 0s 46ms/step\n",
                        "tulip\n"
                    ]
                },
                {
                    "data": {
                        "text/plain": [
                            "<matplotlib.image.AxesImage at 0x3d902100>"
                        ]
                    },
                    "execution_count": 24,
                    "metadata": {},
                    "output_type": "execute_result"
                },
                {
                    "data": {
                        "image/png": "[encoded data removed]",
                        "text/plain": [
                            "<Figure size 640x480 with 1 Axes>"
                        ]
                    },
                    "metadata": {},
                    "output_type": "display_data"
                }
            ],
            "source": [
                "index = random.randint(0, len(testing_data) - 1)\n",
                "image = numpy.expand_dims(testing_data[index], axis=0)\n",
                "label = testing_labels[index]\n",
                "print(['daisy', 'dandelions', 'rose', 'sunflower', 'tulip'][label.argmax()])\n",
                "print(['daisy', 'dandelions', 'rose', 'sunflower', 'tulip'][numpy.argmax(model.predict(image))])\n",
                "pyplot.imshow(testing_data[index])"
            ]
        }
    ],
    "metadata": {
        "colab": {
            "collapsed_sections": [],
            "provenance": []
        },
        "kernelspec": {
            "display_name": "Python 3.8.10 ('.env')",
            "language": "python",
            "name": "python3"
        },
        "language_info": {
            "codemirror_mode": {
                "name": "ipython",
                "version": 3
            },
            "file_extension": ".py",
            "mimetype": "text/x-python",
            "name": "python",
            "nbconvert_exporter": "python",
            "pygments_lexer": "ipython3",
            "version": "3.8.10"
        },
        "vscode": {
            "interpreter": {
                "hash": "c905d9b71237f237a5d323f6bb7541ba1f0271a97c19e33a2352be799613d901"
            }
        }
    },
    "nbformat": 4,
    "nbformat_minor": 0
}
